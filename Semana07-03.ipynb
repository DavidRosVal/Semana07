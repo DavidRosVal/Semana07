{
 "cells": [
  {
   "cell_type": "markdown",
   "id": "b7c604c4",
   "metadata": {},
   "source": [
    "# Semana 07"
   ]
  },
  {
   "cell_type": "markdown",
   "id": "68c90d82",
   "metadata": {},
   "source": [
    "David Rosado Valerio"
   ]
  },
  {
   "cell_type": "raw",
   "id": "a7a5431c",
   "metadata": {},
   "source": [
    "1. Numeros\n",
    "2. Variables\n",
    "3. Manejo de variables\n",
    "4. Ingreso de datos por el teclado\n",
    "5. Operadores"
   ]
  },
  {
   "cell_type": "markdown",
   "id": "95dd38aa",
   "metadata": {},
   "source": [
    "3. Manejo de cadenas"
   ]
  },
  {
   "cell_type": "code",
   "execution_count": 1,
   "id": "87fe6106",
   "metadata": {},
   "outputs": [
    {
     "data": {
      "text/plain": [
       "'Universidad Nacional Tecnologica de Lima Sur'"
      ]
     },
     "execution_count": 1,
     "metadata": {},
     "output_type": "execute_result"
    }
   ],
   "source": [
    "cadena = \"Universidad Nacional Tecnologica de Lima Sur\"\n",
    "cadena"
   ]
  },
  {
   "cell_type": "code",
   "execution_count": null,
   "id": "ec950f9f",
   "metadata": {},
   "outputs": [],
   "source": [
    "# Universidad Nacional Tecnologica de Lima Sur\n",
    "# ****************************************"
   ]
  },
  {
   "cell_type": "code",
   "execution_count": 2,
   "id": "8d305890",
   "metadata": {},
   "outputs": [
    {
     "data": {
      "text/plain": [
       "'r'"
      ]
     },
     "execution_count": 2,
     "metadata": {},
     "output_type": "execute_result"
    }
   ],
   "source": [
    "cadena[5]"
   ]
  },
  {
   "cell_type": "code",
   "execution_count": 4,
   "id": "3247d902",
   "metadata": {},
   "outputs": [
    {
     "data": {
      "text/plain": [
       "'d'"
      ]
     },
     "execution_count": 4,
     "metadata": {},
     "output_type": "execute_result"
    }
   ],
   "source": [
    "cadena[10]"
   ]
  },
  {
   "cell_type": "code",
   "execution_count": 5,
   "id": "25daffbd",
   "metadata": {},
   "outputs": [],
   "source": [
    "# Para mostrar una subcadena [desde. hasta una antes]"
   ]
  },
  {
   "cell_type": "code",
   "execution_count": 6,
   "id": "d40d4810",
   "metadata": {},
   "outputs": [],
   "source": [
    "# En java era substring()"
   ]
  },
  {
   "cell_type": "code",
   "execution_count": 7,
   "id": "9735906b",
   "metadata": {},
   "outputs": [
    {
     "data": {
      "text/plain": [
       "'versi'"
      ]
     },
     "execution_count": 7,
     "metadata": {},
     "output_type": "execute_result"
    }
   ],
   "source": [
    "cadena[3:8]"
   ]
  },
  {
   "cell_type": "code",
   "execution_count": 8,
   "id": "3b6cae9e",
   "metadata": {},
   "outputs": [],
   "source": [
    "# Para saber el tamaño de una cadena utilizamos len()\n",
    "# Incluy espacios en blanco"
   ]
  },
  {
   "cell_type": "code",
   "execution_count": 9,
   "id": "fec58e66",
   "metadata": {},
   "outputs": [
    {
     "data": {
      "text/plain": [
       "44"
      ]
     },
     "execution_count": 9,
     "metadata": {},
     "output_type": "execute_result"
    }
   ],
   "source": [
    "len(cadena)"
   ]
  },
  {
   "cell_type": "code",
   "execution_count": 10,
   "id": "12c5d83b",
   "metadata": {},
   "outputs": [],
   "source": [
    "# para mostrar una cadena en mayuscula utilizamos upper()"
   ]
  },
  {
   "cell_type": "code",
   "execution_count": 11,
   "id": "1073dd52",
   "metadata": {},
   "outputs": [
    {
     "data": {
      "text/plain": [
       "'UNIVERSIDAD NACIONAL TECNOLOGICA DE LIMA SUR'"
      ]
     },
     "execution_count": 11,
     "metadata": {},
     "output_type": "execute_result"
    }
   ],
   "source": [
    "cadena.upper()"
   ]
  },
  {
   "cell_type": "code",
   "execution_count": 12,
   "id": "c7427b81",
   "metadata": {},
   "outputs": [
    {
     "data": {
      "text/plain": [
       "'Universidad Nacional Tecnologica de Lima Sur'"
      ]
     },
     "execution_count": 12,
     "metadata": {},
     "output_type": "execute_result"
    }
   ],
   "source": [
    "# Ojo... Solo lo muestra, porque el original sigue siendo igual\n",
    "cadena"
   ]
  },
  {
   "cell_type": "code",
   "execution_count": 13,
   "id": "3dfb1ef9",
   "metadata": {},
   "outputs": [],
   "source": [
    "# Para mostrar una adena en minuscula utilizamos lower()"
   ]
  },
  {
   "cell_type": "code",
   "execution_count": 14,
   "id": "154e26fb",
   "metadata": {},
   "outputs": [
    {
     "data": {
      "text/plain": [
       "'universidad nacional tecnologica de lima sur'"
      ]
     },
     "execution_count": 14,
     "metadata": {},
     "output_type": "execute_result"
    }
   ],
   "source": [
    "cadena.lower()"
   ]
  },
  {
   "cell_type": "code",
   "execution_count": 15,
   "id": "fdf930ef",
   "metadata": {},
   "outputs": [
    {
     "data": {
      "text/plain": [
       "['Universidad', 'Nacional', 'Tecnologica', 'de', 'Lima', 'Sur']"
      ]
     },
     "execution_count": 15,
     "metadata": {},
     "output_type": "execute_result"
    }
   ],
   "source": [
    "# Generar una lista a partir de una cadena split()\n",
    "cadena.split()"
   ]
  },
  {
   "cell_type": "code",
   "execution_count": 18,
   "id": "778c1cba",
   "metadata": {},
   "outputs": [
    {
     "data": {
      "text/plain": [
       "['Universid', 'd N', 'cion', 'l Tecnologic', ' de Lim', ' Sur']"
      ]
     },
     "execution_count": 18,
     "metadata": {},
     "output_type": "execute_result"
    }
   ],
   "source": [
    "# Generar una lista utilizando un criterio de separación a partir de una cadena split()\n",
    "# En este caso bamos a generar una lista de toda la cadena, utilizando como criterio de separación la letra \"A\"\n",
    "cadena.split(\"a\")"
   ]
  },
  {
   "cell_type": "code",
   "execution_count": 20,
   "id": "2b6211a2",
   "metadata": {},
   "outputs": [
    {
     "name": "stdout",
     "output_type": "stream",
     "text": [
      "Buenas tardes David Rosado\n"
     ]
    }
   ],
   "source": [
    "# Forma clasica de concatenar con +\n",
    "nombre = \"David Rosado\"\n",
    "print(\"Buenas tardes \"+nombre)"
   ]
  },
  {
   "cell_type": "code",
   "execution_count": 21,
   "id": "7f457ed1",
   "metadata": {},
   "outputs": [
    {
     "name": "stdout",
     "output_type": "stream",
     "text": [
      "hola David Rosado ya se que tienes 23 años\n"
     ]
    }
   ],
   "source": [
    "# Utilizando .format()\n",
    "edad  = 23\n",
    "print(\"hola {} ya se que tienes {} años\". format(nombre, edad))"
   ]
  },
  {
   "cell_type": "code",
   "execution_count": 23,
   "id": "4f59ad75",
   "metadata": {},
   "outputs": [
    {
     "name": "stdout",
     "output_type": "stream",
     "text": [
      "10/3 = 3.3333333333333335\n",
      "10/3 = 3.333\n"
     ]
    }
   ],
   "source": [
    "# Dar formato con muchos decimales\n",
    "resultado = 10/3\n",
    "print(\"10/3 = {}\".format(resultado))\n",
    "print(\"10/3 = {r:1.3f}\".format(r=resultado))"
   ]
  },
  {
   "cell_type": "code",
   "execution_count": 26,
   "id": "4d80f6de",
   "metadata": {},
   "outputs": [
    {
     "name": "stdout",
     "output_type": "stream",
     "text": [
      "10/3 = 3.3333333333333335\n",
      "10/3 = 3.333\n",
      "buenos días David Rosado, ya sé que tienes 23 años\n"
     ]
    }
   ],
   "source": [
    "# Utilizando f\n",
    "print(f\"10/3 = {resultado}\")\n",
    "print(f\"10/3 = {resultado:1.3f}\")\n",
    "print(f\"buenos días {nombre}, ya sé que tienes {edad} años\")"
   ]
  },
  {
   "cell_type": "code",
   "execution_count": null,
   "id": "d004f9a1",
   "metadata": {},
   "outputs": [],
   "source": []
  },
  {
   "cell_type": "code",
   "execution_count": null,
   "id": "ef00e1bb",
   "metadata": {},
   "outputs": [],
   "source": []
  }
 ],
 "metadata": {
  "kernelspec": {
   "display_name": "Python 3 (ipykernel)",
   "language": "python",
   "name": "python3"
  },
  "language_info": {
   "codemirror_mode": {
    "name": "ipython",
    "version": 3
   },
   "file_extension": ".py",
   "mimetype": "text/x-python",
   "name": "python",
   "nbconvert_exporter": "python",
   "pygments_lexer": "ipython3",
   "version": "3.9.12"
  }
 },
 "nbformat": 4,
 "nbformat_minor": 5
}
