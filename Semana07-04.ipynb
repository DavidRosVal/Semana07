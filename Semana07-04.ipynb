{
 "cells": [
  {
   "cell_type": "markdown",
   "id": "5524d32f",
   "metadata": {},
   "source": [
    "# Semana 07"
   ]
  },
  {
   "cell_type": "markdown",
   "id": "115bc05e",
   "metadata": {},
   "source": [
    "David Rosado Valerio"
   ]
  },
  {
   "cell_type": "raw",
   "id": "f13788fd",
   "metadata": {},
   "source": [
    "1. Numeros\n",
    "2. Variables\n",
    "3. Manejo de variables\n",
    "4. Ingreso de datos por el teclado\n",
    "5. Operadores"
   ]
  },
  {
   "cell_type": "markdown",
   "id": "bef02191",
   "metadata": {},
   "source": [
    "4. Ingreso de datos por el teclado"
   ]
  },
  {
   "cell_type": "code",
   "execution_count": 2,
   "id": "82f7c872",
   "metadata": {},
   "outputs": [
    {
     "name": "stdout",
     "output_type": "stream",
     "text": [
      "¿Cuál es tu nombre?\n",
      "David\n",
      "hola David\n"
     ]
    }
   ],
   "source": [
    "# Función input()\n",
    "print(\"¿Cuál es tu nombre?\")\n",
    "nombre = input()\n",
    "print(f\"hola {nombre}\")"
   ]
  },
  {
   "cell_type": "code",
   "execution_count": 4,
   "id": "c3c6be80",
   "metadata": {},
   "outputs": [
    {
     "name": "stdout",
     "output_type": "stream",
     "text": [
      "número 1: \n",
      "2\n",
      "número 2: \n",
      "3\n",
      "El resultado es 5\n"
     ]
    }
   ],
   "source": [
    "# Cuando ingresa un valor por teclado lo hace como cadena\n",
    "print(\"número 1: \")\n",
    "numero1 = input()\n",
    "print(\"número 2: \")\n",
    "numero2 = input()\n",
    "# Para operar inputs se tienen que convertir a int\n",
    "numero3 = int(numero1) + int(numero2)\n",
    "print(f\"El resultado es {numero3}\")"
   ]
  },
  {
   "cell_type": "code",
   "execution_count": null,
   "id": "3bd9603c",
   "metadata": {},
   "outputs": [],
   "source": []
  }
 ],
 "metadata": {
  "kernelspec": {
   "display_name": "Python 3 (ipykernel)",
   "language": "python",
   "name": "python3"
  },
  "language_info": {
   "codemirror_mode": {
    "name": "ipython",
    "version": 3
   },
   "file_extension": ".py",
   "mimetype": "text/x-python",
   "name": "python",
   "nbconvert_exporter": "python",
   "pygments_lexer": "ipython3",
   "version": "3.9.12"
  }
 },
 "nbformat": 4,
 "nbformat_minor": 5
}
